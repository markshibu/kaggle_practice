{
 "cells": [
  {
   "cell_type": "markdown",
   "metadata": {},
   "source": [
    "## 对比 ( 直接drop非数值列  、 one-hot处理非数值列 ） \n",
    "\n",
    "1.drop 和 one-hot\n",
    "\n",
    "2.align training set & test set\n",
    "\n",
    "3.missing data 处理\n",
    "\n",
    "4.cross validation"
   ]
  },
  {
   "cell_type": "markdown",
   "metadata": {},
   "source": [
    "### data input"
   ]
  },
  {
   "cell_type": "code",
   "execution_count": 1,
   "metadata": {},
   "outputs": [],
   "source": [
    "import pandas as pd\n",
    "train_data = pd.read_csv('train.csv')\n",
    "test_data = pd.read_csv('test.csv')"
   ]
  },
  {
   "cell_type": "code",
   "execution_count": 2,
   "metadata": {},
   "outputs": [],
   "source": [
    "training_X = train_data.drop(['SalePrice'],axis=1)\n",
    "y = train_data.SalePrice\n",
    "test_X = test_data"
   ]
  },
  {
   "cell_type": "markdown",
   "metadata": {},
   "source": [
    "### drop 和 one-hot\n"
   ]
  },
  {
   "cell_type": "code",
   "execution_count": 3,
   "metadata": {},
   "outputs": [],
   "source": [
    "# Drop those non_numeric columns\n",
    "numeric_training_X = training_X.select_dtypes(exclude=[\"object\"]).drop(\"Id\",1)\n",
    "numeric_test_X = test_X.select_dtypes(exclude=[\"object\"]).drop(\"Id\",1)\n",
    "\n",
    "# One-hot\n",
    "one_hot_training_X = pd.get_dummies(training_X).drop(\"Id\",1)\n",
    "one_hot_test_X = pd.get_dummies(test_X).drop(\"Id\",1)"
   ]
  },
  {
   "cell_type": "markdown",
   "metadata": {},
   "source": [
    "### align training set & test set"
   ]
  },
  {
   "cell_type": "code",
   "execution_count": 4,
   "metadata": {},
   "outputs": [],
   "source": [
    "one_hot_training_X, one_hot_test_X = one_hot_training_X.align(one_hot_test_X, join='left', axis=1)"
   ]
  },
  {
   "cell_type": "markdown",
   "metadata": {},
   "source": [
    "### missing data 处理"
   ]
  },
  {
   "cell_type": "code",
   "execution_count": 5,
   "metadata": {},
   "outputs": [],
   "source": [
    "def missing_data_handler(df):\n",
    "    from sklearn.preprocessing import Imputer\n",
    "    my_imputer = Imputer()\n",
    "    cols_with_missing = (col for col in df.columns if df[col].isnull().any())\n",
    "    for col in cols_with_missing:\n",
    "        df[col+'_was_missing'] = df[col].isnull()\n",
    "    df = my_imputer.fit_transform(df)\n",
    "    return df"
   ]
  },
  {
   "cell_type": "code",
   "execution_count": 6,
   "metadata": {},
   "outputs": [],
   "source": [
    "# directly drop\n",
    "numeric_training_X = missing_data_handler(numeric_training_X)  \n",
    "numeric_test_X = missing_data_handler(numeric_test_X) "
   ]
  },
  {
   "cell_type": "code",
   "execution_count": 7,
   "metadata": {},
   "outputs": [],
   "source": [
    "# one_hot_predictors\n",
    "one_hot_training_X = missing_data_handler(one_hot_training_X)  \n",
    "one_hot_test_X = missing_data_handler(one_hot_test_X) "
   ]
  },
  {
   "cell_type": "markdown",
   "metadata": {},
   "source": [
    "### Cross Validation Score 对比"
   ]
  },
  {
   "cell_type": "code",
   "execution_count": 8,
   "metadata": {},
   "outputs": [],
   "source": [
    "from sklearn.model_selection import cross_val_score\n",
    "from sklearn.ensemble import RandomForestRegressor\n",
    "\n",
    "def get_mae(X, y):\n",
    "    # multiple by -1 to make positive MAE score instead of neg value returned as sklearn convention\n",
    "    return -1 * cross_val_score(RandomForestRegressor(50), \n",
    "                                X, y, \n",
    "                                scoring = 'neg_mean_absolute_error').mean()"
   ]
  },
  {
   "cell_type": "code",
   "execution_count": 9,
   "metadata": {},
   "outputs": [
    {
     "data": {
      "text/plain": [
       "18404.239444092356"
      ]
     },
     "execution_count": 9,
     "metadata": {},
     "output_type": "execute_result"
    }
   ],
   "source": [
    "get_mae(numeric_training_X,y)"
   ]
  },
  {
   "cell_type": "code",
   "execution_count": 10,
   "metadata": {},
   "outputs": [
    {
     "data": {
      "text/plain": [
       "17828.08139844461"
      ]
     },
     "execution_count": 10,
     "metadata": {},
     "output_type": "execute_result"
    }
   ],
   "source": [
    "get_mae(one_hot_training_X,y)"
   ]
  }
 ],
 "metadata": {
  "kernelspec": {
   "display_name": "Python 3",
   "language": "python",
   "name": "python3"
  },
  "language_info": {
   "codemirror_mode": {
    "name": "ipython",
    "version": 3
   },
   "file_extension": ".py",
   "mimetype": "text/x-python",
   "name": "python",
   "nbconvert_exporter": "python",
   "pygments_lexer": "ipython3",
   "version": "3.6.4"
  }
 },
 "nbformat": 4,
 "nbformat_minor": 2
}
